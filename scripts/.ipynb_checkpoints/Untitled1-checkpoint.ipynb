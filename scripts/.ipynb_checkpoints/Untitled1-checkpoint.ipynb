{
 "cells": [
  {
   "cell_type": "code",
   "execution_count": 1,
   "id": "d159d85f",
   "metadata": {},
   "outputs": [
    {
     "name": "stdout",
     "output_type": "stream",
     "text": [
      "Robot Name: rx200\n",
      "Robot Model: rx200\n",
      "Initialized InterbotixRobotXSCore!\n",
      "\n",
      "Arm Group Name: arm\n",
      "Moving Time: 2.00 seconds\n",
      "Acceleration Time: 0.30 seconds\n",
      "Drive Mode: Time-Based-Profile\n",
      "Initialized InterbotixArmXSInterface!\n",
      "\n",
      "Gripper mode = position\n",
      "Gripper Name: gripper\n",
      "Gripper Pressure: 50%\n",
      "Initialized InterbotixGripperXSInterface!\n",
      "\n"
     ]
    },
    {
     "name": "stderr",
     "output_type": "stream",
     "text": [
      "[ERROR] [1639875598.480833]: Please set the gripper's 'operating mode' to 'pwm' or 'current'.\n"
     ]
    },
    {
     "name": "stdout",
     "output_type": "stream",
     "text": [
      "gripper.py release\n",
      "set single gripper   =======================\n"
     ]
    }
   ],
   "source": [
    "from interbotix_xs_modules.arm import InterbotixManipulatorXS\n",
    "\n",
    "import numpy as np\n",
    "import time\n",
    "\n",
    "\n",
    "bot = InterbotixManipulatorXS(\"rx200\", \"arm\", \"gripper\")\n",
    "bot.arm.go_to_home_pose()\n",
    "bot.arm.go_to_sleep_pose()\n"
   ]
  },
  {
   "cell_type": "code",
   "execution_count": null,
   "id": "ed67e347",
   "metadata": {},
   "outputs": [],
   "source": []
  },
  {
   "cell_type": "code",
   "execution_count": 2,
   "id": "38ff8104",
   "metadata": {},
   "outputs": [
    {
     "name": "stdout",
     "output_type": "stream",
     "text": [
      "gripper.py attract\n",
      "set single gripper   =======================\n"
     ]
    }
   ],
   "source": [
    "bot.gripper.attract()"
   ]
  },
  {
   "cell_type": "code",
   "execution_count": 3,
   "id": "50eadb75",
   "metadata": {},
   "outputs": [
    {
     "name": "stdout",
     "output_type": "stream",
     "text": [
      "gripper.py release\n",
      "set single gripper   =======================\n"
     ]
    }
   ],
   "source": [
    "bot.gripper.release()"
   ]
  },
  {
   "cell_type": "code",
   "execution_count": null,
   "id": "200eef0f",
   "metadata": {},
   "outputs": [],
   "source": []
  }
 ],
 "metadata": {
  "kernelspec": {
   "display_name": "Python 3 (ipykernel)",
   "language": "python",
   "name": "python3"
  },
  "language_info": {
   "codemirror_mode": {
    "name": "ipython",
    "version": 3
   },
   "file_extension": ".py",
   "mimetype": "text/x-python",
   "name": "python",
   "nbconvert_exporter": "python",
   "pygments_lexer": "ipython3",
   "version": "3.8.10"
  }
 },
 "nbformat": 4,
 "nbformat_minor": 5
}
