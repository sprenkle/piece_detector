{
 "cells": [
  {
   "cell_type": "code",
   "execution_count": 1,
   "id": "d159d85f",
   "metadata": {},
   "outputs": [
    {
     "name": "stdout",
     "output_type": "stream",
     "text": [
      "Robot Name: rx200\n",
      "Robot Model: rx200\n",
      "Initialized InterbotixRobotXSCore!\n",
      "\n",
      "Arm Group Name: arm\n",
      "Moving Time: 2.00 seconds\n",
      "Acceleration Time: 0.30 seconds\n",
      "Drive Mode: Time-Based-Profile\n",
      "Initialized InterbotixArmXSInterface!\n",
      "\n",
      "Gripper mode = position\n",
      "Gripper Name: gripper\n",
      "Gripper Pressure: 50%\n",
      "Initialized InterbotixGripperXSInterface!\n",
      "\n"
     ]
    },
    {
     "name": "stderr",
     "output_type": "stream",
     "text": [
      "[ERROR] [1639875598.480833]: Please set the gripper's 'operating mode' to 'pwm' or 'current'.\n"
     ]
    },
    {
     "name": "stdout",
     "output_type": "stream",
     "text": [
      "gripper.py release\n",
      "set single gripper   =======================\n"
     ]
    }
   ],
   "source": [
    "from interbotix_xs_modules.arm import InterbotixManipulatorXS\n",
    "\n",
    "import numpy as np\n",
    "import time\n",
    "\n",
    "bot = InterbotixManipulatorXS(\"rx200\", \"arm\", \"gripper\")"
   ]
  },
  {
   "cell_type": "code",
   "execution_count": null,
   "id": "fd82a900",
   "metadata": {},
   "outputs": [],
   "source": [
    "bot.arm.go_to_sleep_pose()"
   ]
  },
  {
   "cell_type": "code",
   "execution_count": 4,
   "id": "1fc14609",
   "metadata": {},
   "outputs": [],
   "source": [
    "bot.arm.go_to_home_pose()"
   ]
  },
  {
   "cell_type": "code",
   "execution_count": 2,
   "id": "38ff8104",
   "metadata": {},
   "outputs": [
    {
     "name": "stdout",
     "output_type": "stream",
     "text": [
      "gripper.py attract\n",
      "set single gripper   =======================\n"
     ]
    }
   ],
   "source": [
    "bot.gripper.attract()"
   ]
  },
  {
   "cell_type": "code",
   "execution_count": 3,
   "id": "18184487",
   "metadata": {},
   "outputs": [
    {
     "name": "stdout",
     "output_type": "stream",
     "text": [
      "gripper.py release\n",
      "set single gripper   =======================\n"
     ]
    }
   ],
   "source": [
    "bot.gripper.release()"
   ]
  },
  {
   "cell_type": "code",
   "execution_count": 4,
   "id": "c0d694cc",
   "metadata": {},
   "outputs": [],
   "source": [
    "from pyquaternion import Quaternion"
   ]
  },
  {
   "cell_type": "code",
   "execution_count": 5,
   "id": "14a2dc49",
   "metadata": {},
   "outputs": [],
   "source": [
    "q1 = Quaternion(0.4992266847159158, -0.49611545599441786, -0.17894585863451237, -0.6874740266920893)\n",
    "\n",
    "q2 = Quaternion(-0.4992266847159158, 0.49611545599441786, 0.17894585863451237, -0.6874740266920893)"
   ]
  },
  {
   "cell_type": "code",
   "execution_count": 7,
   "id": "756008e4",
   "metadata": {},
   "outputs": [
    {
     "data": {
      "text/plain": [
       "array([[-0.00928433,  0.86396638,  0.50346389],\n",
       "       [-0.50885515, -0.43750219,  0.74138942],\n",
       "       [ 0.86080209, -0.24930689,  0.44369566]])"
      ]
     },
     "execution_count": 7,
     "metadata": {},
     "output_type": "execute_result"
    }
   ],
   "source": [
    "q1.rotation_matrix"
   ]
  },
  {
   "cell_type": "code",
   "execution_count": 6,
   "id": "9dd34b82",
   "metadata": {},
   "outputs": [
    {
     "data": {
      "text/plain": [
       "array([[-0.00928433, -0.50885515, -0.86080209],\n",
       "       [ 0.86396638, -0.43750219,  0.24930689],\n",
       "       [-0.50346389, -0.74138942,  0.44369566]])"
      ]
     },
     "execution_count": 6,
     "metadata": {},
     "output_type": "execute_result"
    }
   ],
   "source": [
    "q2.rotation_matrix"
   ]
  },
  {
   "cell_type": "code",
   "execution_count": null,
   "id": "6d3c282a",
   "metadata": {},
   "outputs": [],
   "source": []
  }
 ],
 "metadata": {
  "kernelspec": {
   "display_name": "Python 3 (ipykernel)",
   "language": "python",
   "name": "python3"
  },
  "language_info": {
   "codemirror_mode": {
    "name": "ipython",
    "version": 3
   },
   "file_extension": ".py",
   "mimetype": "text/x-python",
   "name": "python",
   "nbconvert_exporter": "python",
   "pygments_lexer": "ipython3",
   "version": "3.8.10"
  }
 },
 "nbformat": 4,
 "nbformat_minor": 5
}
